{
 "cells": [
  {
   "cell_type": "markdown",
   "id": "477fc0c8",
   "metadata": {},
   "source": [
    "# 🖐️ Sign Language Recognition using Deep Learning\n",
    "\n",
    "## 📌 Project Overview\n",
    "This project focuses on building a **Deep Learning model** (using Convolutional Neural Networks - CNNs) to recognize **American Sign Language (ASL)** alphabets from images.  \n",
    "The aim is to create a tool that can help bridge the communication gap between the hearing-impaired community and others.  \n",
    "\n",
    "---\n",
    "\n",
    "## 🎯 Objectives\n",
    "- Recognize hand gestures representing **A–Z letters** in ASL.\n",
    "- Train a deep learning model that can accurately classify the signs.\n",
    "- Provide a simple and effective solution for communication support.  \n",
    "\n",
    "---\n",
    "\n",
    "## 🗂️ Dataset\n",
    "- The dataset contains images of hands performing ASL alphabets.  \n",
    "- Each image corresponds to one of the 26 letters (A–Z).  \n",
    "- Images are preprocessed (resized, normalized) before feeding into the CNN model.  \n",
    "\n",
    "---\n",
    "\n",
    "## 🛠️ Methodology\n",
    "1. **Data Preprocessing**: resizing, normalization, and data augmentation.  \n",
    "2. **Model Building**: Convolutional Neural Network (CNN) with multiple layers (Conv2D, MaxPooling, Dense, Dropout).  \n",
    "3. **Training & Validation**: model trained on training data, validated on validation data.  \n",
    "4. **Evaluation**: performance measured using accuracy, confusion matrix, and classification report.  \n",
    "\n",
    "---\n",
    "\n",
    "## 📸 Visualization\n",
    "Below is an example of the ASL alphabet chart used in the dataset:\n",
    "\n",
    "![ASL Alphabet](https://i.imgur.com/0rZy3eD.png)\n",
    "\n",
    "---\n",
    "\n",
    "## 🚀 Expected Outcome\n",
    "- A trained model that can **predict ASL letters** from hand gesture images.  \n",
    "- Potential integration into real-time applications using a webcam or mobile app.  \n"
   ]
  },
  {
   "cell_type": "markdown",
   "id": "d70353eb",
   "metadata": {},
   "source": [
    "## 📚 Importing Required Libraries\n",
    "\n",
    "In this step, we import the essential libraries that will be used throughout the project:\n",
    "\n",
    "- **pandas** & **numpy** → for data manipulation and numerical operations.  \n",
    "- **matplotlib** → for data visualization and plotting graphs.  \n",
    "- **scikit-learn** (`train_test_split`, `classification_report`, `confusion_matrix`) → for splitting data and evaluating model performance.  \n",
    "- **tensorflow / keras** → for building and training the deep learning (CNN) model.  \n",
    "- **cv2 (OpenCV)** → for image processing tasks.  \n",
    "- **json** → for handling JSON data if needed.  \n",
    "- **warnings** → to suppress unnecessary warnings during execution.  \n"
   ]
  },
  {
   "cell_type": "code",
   "execution_count": 2,
   "id": "a33323ec",
   "metadata": {},
   "outputs": [],
   "source": [
    "import pandas as pd\n",
    "import numpy as np\n",
    "import matplotlib.pyplot as plt\n",
    "from sklearn.model_selection import train_test_split\n",
    "from sklearn.metrics import classification_report, confusion_matrix\n",
    "import tensorflow as tf\n",
    "from tensorflow.keras import layers, models, callbacks\n",
    "import json, cv2\n",
    "\n",
    "import warnings\n",
    "warnings.filterwarnings('ignore')"
   ]
  },
  {
   "cell_type": "markdown",
   "id": "f11c5ffc",
   "metadata": {},
   "source": [
    "## 📂 Loading the Dataset  \n",
    "\n",
    "We are using the **Sign Language MNIST dataset**, which contains images of hand signs representing alphabets.  \n",
    "The dataset is divided into two CSV files:  \n",
    "\n",
    "- **sign_mnist_train.csv** → Training data  \n",
    "- **sign_mnist_test.csv** → Testing data  \n",
    "\n",
    "Each row in the dataset represents an image (28x28 pixels) flattened into 784 pixel values, and a `label` column indicating the corresponding alphabet.  \n"
   ]
  },
  {
   "cell_type": "code",
   "execution_count": 3,
   "id": "8371b0b4",
   "metadata": {},
   "outputs": [
    {
     "data": {
      "text/html": [
       "<div>\n",
       "<style scoped>\n",
       "    .dataframe tbody tr th:only-of-type {\n",
       "        vertical-align: middle;\n",
       "    }\n",
       "\n",
       "    .dataframe tbody tr th {\n",
       "        vertical-align: top;\n",
       "    }\n",
       "\n",
       "    .dataframe thead th {\n",
       "        text-align: right;\n",
       "    }\n",
       "</style>\n",
       "<table border=\"1\" class=\"dataframe\">\n",
       "  <thead>\n",
       "    <tr style=\"text-align: right;\">\n",
       "      <th></th>\n",
       "      <th>label</th>\n",
       "      <th>pixel1</th>\n",
       "      <th>pixel2</th>\n",
       "      <th>pixel3</th>\n",
       "      <th>pixel4</th>\n",
       "      <th>pixel5</th>\n",
       "      <th>pixel6</th>\n",
       "      <th>pixel7</th>\n",
       "      <th>pixel8</th>\n",
       "      <th>pixel9</th>\n",
       "      <th>...</th>\n",
       "      <th>pixel775</th>\n",
       "      <th>pixel776</th>\n",
       "      <th>pixel777</th>\n",
       "      <th>pixel778</th>\n",
       "      <th>pixel779</th>\n",
       "      <th>pixel780</th>\n",
       "      <th>pixel781</th>\n",
       "      <th>pixel782</th>\n",
       "      <th>pixel783</th>\n",
       "      <th>pixel784</th>\n",
       "    </tr>\n",
       "  </thead>\n",
       "  <tbody>\n",
       "    <tr>\n",
       "      <th>0</th>\n",
       "      <td>3</td>\n",
       "      <td>107</td>\n",
       "      <td>118</td>\n",
       "      <td>127</td>\n",
       "      <td>134</td>\n",
       "      <td>139</td>\n",
       "      <td>143</td>\n",
       "      <td>146</td>\n",
       "      <td>150</td>\n",
       "      <td>153</td>\n",
       "      <td>...</td>\n",
       "      <td>207</td>\n",
       "      <td>207</td>\n",
       "      <td>207</td>\n",
       "      <td>207</td>\n",
       "      <td>206</td>\n",
       "      <td>206</td>\n",
       "      <td>206</td>\n",
       "      <td>204</td>\n",
       "      <td>203</td>\n",
       "      <td>202</td>\n",
       "    </tr>\n",
       "    <tr>\n",
       "      <th>1</th>\n",
       "      <td>6</td>\n",
       "      <td>155</td>\n",
       "      <td>157</td>\n",
       "      <td>156</td>\n",
       "      <td>156</td>\n",
       "      <td>156</td>\n",
       "      <td>157</td>\n",
       "      <td>156</td>\n",
       "      <td>158</td>\n",
       "      <td>158</td>\n",
       "      <td>...</td>\n",
       "      <td>69</td>\n",
       "      <td>149</td>\n",
       "      <td>128</td>\n",
       "      <td>87</td>\n",
       "      <td>94</td>\n",
       "      <td>163</td>\n",
       "      <td>175</td>\n",
       "      <td>103</td>\n",
       "      <td>135</td>\n",
       "      <td>149</td>\n",
       "    </tr>\n",
       "    <tr>\n",
       "      <th>2</th>\n",
       "      <td>2</td>\n",
       "      <td>187</td>\n",
       "      <td>188</td>\n",
       "      <td>188</td>\n",
       "      <td>187</td>\n",
       "      <td>187</td>\n",
       "      <td>186</td>\n",
       "      <td>187</td>\n",
       "      <td>188</td>\n",
       "      <td>187</td>\n",
       "      <td>...</td>\n",
       "      <td>202</td>\n",
       "      <td>201</td>\n",
       "      <td>200</td>\n",
       "      <td>199</td>\n",
       "      <td>198</td>\n",
       "      <td>199</td>\n",
       "      <td>198</td>\n",
       "      <td>195</td>\n",
       "      <td>194</td>\n",
       "      <td>195</td>\n",
       "    </tr>\n",
       "    <tr>\n",
       "      <th>3</th>\n",
       "      <td>2</td>\n",
       "      <td>211</td>\n",
       "      <td>211</td>\n",
       "      <td>212</td>\n",
       "      <td>212</td>\n",
       "      <td>211</td>\n",
       "      <td>210</td>\n",
       "      <td>211</td>\n",
       "      <td>210</td>\n",
       "      <td>210</td>\n",
       "      <td>...</td>\n",
       "      <td>235</td>\n",
       "      <td>234</td>\n",
       "      <td>233</td>\n",
       "      <td>231</td>\n",
       "      <td>230</td>\n",
       "      <td>226</td>\n",
       "      <td>225</td>\n",
       "      <td>222</td>\n",
       "      <td>229</td>\n",
       "      <td>163</td>\n",
       "    </tr>\n",
       "    <tr>\n",
       "      <th>4</th>\n",
       "      <td>13</td>\n",
       "      <td>164</td>\n",
       "      <td>167</td>\n",
       "      <td>170</td>\n",
       "      <td>172</td>\n",
       "      <td>176</td>\n",
       "      <td>179</td>\n",
       "      <td>180</td>\n",
       "      <td>184</td>\n",
       "      <td>185</td>\n",
       "      <td>...</td>\n",
       "      <td>92</td>\n",
       "      <td>105</td>\n",
       "      <td>105</td>\n",
       "      <td>108</td>\n",
       "      <td>133</td>\n",
       "      <td>163</td>\n",
       "      <td>157</td>\n",
       "      <td>163</td>\n",
       "      <td>164</td>\n",
       "      <td>179</td>\n",
       "    </tr>\n",
       "  </tbody>\n",
       "</table>\n",
       "<p>5 rows × 785 columns</p>\n",
       "</div>"
      ],
      "text/plain": [
       "   label  pixel1  pixel2  pixel3  pixel4  pixel5  pixel6  pixel7  pixel8  \\\n",
       "0      3     107     118     127     134     139     143     146     150   \n",
       "1      6     155     157     156     156     156     157     156     158   \n",
       "2      2     187     188     188     187     187     186     187     188   \n",
       "3      2     211     211     212     212     211     210     211     210   \n",
       "4     13     164     167     170     172     176     179     180     184   \n",
       "\n",
       "   pixel9  ...  pixel775  pixel776  pixel777  pixel778  pixel779  pixel780  \\\n",
       "0     153  ...       207       207       207       207       206       206   \n",
       "1     158  ...        69       149       128        87        94       163   \n",
       "2     187  ...       202       201       200       199       198       199   \n",
       "3     210  ...       235       234       233       231       230       226   \n",
       "4     185  ...        92       105       105       108       133       163   \n",
       "\n",
       "   pixel781  pixel782  pixel783  pixel784  \n",
       "0       206       204       203       202  \n",
       "1       175       103       135       149  \n",
       "2       198       195       194       195  \n",
       "3       225       222       229       163  \n",
       "4       157       163       164       179  \n",
       "\n",
       "[5 rows x 785 columns]"
      ]
     },
     "execution_count": 3,
     "metadata": {},
     "output_type": "execute_result"
    }
   ],
   "source": [
    "train_df = pd.read_csv(\"sign_mnist_train.csv\")\n",
    "test_df  = pd.read_csv(\"sign_mnist_test.csv\")\n",
    "\n",
    "train_df.head()"
   ]
  },
  {
   "cell_type": "markdown",
   "id": "93bf1bfd",
   "metadata": {},
   "source": [
    "## 🛠️ Data Preprocessing  \n",
    "\n",
    "Before training the model, we need to **fix and preprocess the dataset**:\n",
    "\n",
    "1. **Fixing Labels**  \n",
    "   - In the original dataset, some alphabets (`J` = 9, `Z` = 25) are skipped because they involve motion rather than static signs.  \n",
    "   - We remove these labels and shift the rest accordingly to keep the labels continuous.  \n",
    "\n",
    "2. **Preparing Features and Labels**  \n",
    "   - Extract the `label` column as `y`.  \n",
    "   - Normalize pixel values of images (`X`) by dividing by **255.0** to scale them between 0 and 1.  \n",
    "   - Reshape images into the format `(28, 28, 1)` for CNN input.  \n",
    "\n"
   ]
  },
  {
   "cell_type": "code",
   "execution_count": 4,
   "id": "d76e4415",
   "metadata": {},
   "outputs": [],
   "source": [
    "def fix_labels(y):\n",
    "    y_fixed = []\n",
    "    for label in y:\n",
    "        if label == 9:   \n",
    "            continue\n",
    "        elif label == 25:  \n",
    "            continue\n",
    "        elif label > 9:\n",
    "            y_fixed.append(label - 1)\n",
    "        else:\n",
    "            y_fixed.append(label)\n",
    "    return np.array(y_fixed, dtype=\"int64\")\n",
    "\n",
    "def prepare_xy_from_csv(df, label_col=\"label\"):\n",
    "    y = df[label_col].values.astype(\"int64\")\n",
    "    y = fix_labels(y)\n",
    "    X = df.drop(columns=[label_col]).values.astype(\"float32\")\n",
    "    X = X / 255.0\n",
    "    X = X.reshape((-1, 28, 28, 1))\n",
    "    return X, y\n"
   ]
  },
  {
   "cell_type": "markdown",
   "id": "4aebda9a",
   "metadata": {},
   "source": [
    "## 📊 Splitting Data  \n",
    "\n",
    "Now, we prepare the **training** and **testing** datasets using our preprocessing functions:  \n",
    "\n"
   ]
  },
  {
   "cell_type": "code",
   "execution_count": 5,
   "id": "1ee50bf5",
   "metadata": {},
   "outputs": [
    {
     "data": {
      "text/plain": [
       "((27455, 28, 28, 1), (7172, 28, 28, 1))"
      ]
     },
     "execution_count": 5,
     "metadata": {},
     "output_type": "execute_result"
    }
   ],
   "source": [
    "X_train, y_train = prepare_xy_from_csv(train_df)\n",
    "X_test,  y_test  = prepare_xy_from_csv(test_df)\n",
    "\n",
    "X_train.shape, X_test.shape\n"
   ]
  },
  {
   "cell_type": "markdown",
   "id": "c1eda347",
   "metadata": {},
   "source": [
    "## 🖼️ Visualizing Sample Images  \n",
    "\n",
    "Before training, let's look at some sample images from our dataset to better understand the data.  \n",
    "We will display a few samples along with their corresponding **sign language letters**.\n",
    "\n",
    "📌 This helps us verify that the dataset is loaded and labeled correctly before moving to model training.\n"
   ]
  },
  {
   "cell_type": "code",
   "execution_count": 6,
   "id": "7f5a50bf",
   "metadata": {},
   "outputs": [
    {
     "data": {
      "image/png": "[encoded data removed]",
      "text/plain": [
       "<Figure size 800x800 with 16 Axes>"
      ]
     },
     "metadata": {},
     "output_type": "display_data"
    }
   ],
   "source": [
    "letters = {\n",
    "    0:\"A\", 1:\"B\", 2:\"C\", 3:\"D\", 4:\"E\", 5:\"F\", 6:\"G\", 7:\"H\", 8:\"I\",\n",
    "    9:\"K\", 10:\"L\", 11:\"M\", 12:\"N\", 13:\"O\", 14:\"P\", 15:\"Q\", 16:\"R\",\n",
    "    17:\"S\", 18:\"T\", 19:\"U\", 20:\"V\", 21:\"W\", 22:\"X\", 23:\"Y\"\n",
    "}\n",
    "\n",
    "plt.figure(figsize=(8,8))\n",
    "for i in range(16):\n",
    "    plt.subplot(4,4,i+1)\n",
    "    plt.imshow(X_train[i].squeeze(), cmap=\"gray\")\n",
    "    plt.title(letters[int(y_train[i])])\n",
    "    plt.axis(\"off\")\n",
    "plt.show()\n"
   ]
  },
  {
   "cell_type": "markdown",
   "id": "ffe74dfe",
   "metadata": {},
   "source": [
    "## 🔀 Data Splitting and Augmentation  \n",
    "\n",
    "To improve model generalization, we split our training data into:  \n",
    "- **Training set (90%)**  \n",
    "- **Validation set (10%)**  \n",
    "\n",
    "We also applied **data augmentation** to make the model more robust by randomly:  \n",
    "- Rotating images (±10°)  \n",
    "- Shifting width and height (10%)  \n",
    "- Zooming (10%)  \n",
    "\n",
    "This helps prevent overfitting and ensures better performance on unseen data.\n"
   ]
  },
  {
   "cell_type": "code",
   "execution_count": 7,
   "id": "76250720",
   "metadata": {},
   "outputs": [],
   "source": [
    "X_tr, X_val, y_tr, y_val = train_test_split(X_train, y_train, test_size=0.1, random_state=42, stratify=y_train)\n",
    "\n",
    "datagen = tf.keras.preprocessing.image.ImageDataGenerator(\n",
    "    rotation_range=10, width_shift_range=0.1, height_shift_range=0.1, zoom_range=0.1\n",
    ")\n",
    "datagen.fit(X_tr)\n"
   ]
  },
  {
   "cell_type": "markdown",
   "id": "a505bd7a",
   "metadata": {},
   "source": [
    "## 🧠 Model Architecture (CNN)\n",
    "\n",
    "We designed a **Convolutional Neural Network (CNN)** to classify sign language letters.  \n",
    "\n",
    "The architecture is as follows:  \n",
    "\n",
    "1. **Convolutional Layers**  \n",
    "   - 2 Conv2D layers with 32 filters and ReLU activation  \n",
    "   - Batch Normalization for stable training  \n",
    "   - MaxPooling (2×2) to reduce spatial dimensions  \n",
    "   - Dropout (25%) to prevent overfitting  \n",
    "\n",
    "2. **Deeper Convolutional Block**  \n",
    "   - 2 Conv2D layers with 64 filters and ReLU activation  \n",
    "   - Batch Normalization  \n",
    "   - MaxPooling (2×2)  \n",
    "   - Dropout (30%)  \n",
    "\n",
    "3. **Fully Connected Layers**  \n",
    "   - Flatten layer  \n",
    "   - Dense (256 neurons, ReLU activation)  \n",
    "   - Dropout (50%)  \n",
    "   - Output layer with **Softmax activation** (24 classes)  \n",
    "\n",
    "4. **Compilation**  \n",
    "   - Optimizer: **Adam**  \n",
    "   - Loss: **Sparse Categorical Crossentropy**  \n",
    "   - Metric: **Accuracy**\n",
    "\n",
    "This architecture helps the model capture spatial features in hand gesture images and classify them into 24 different sign language letters.\n"
   ]
  },
  {
   "cell_type": "code",
   "execution_count": 8,
   "id": "b0860683",
   "metadata": {},
   "outputs": [
    {
     "data": {
      "text/html": [
       "<pre style=\"white-space:pre;overflow-x:auto;line-height:normal;font-family:Menlo,'DejaVu Sans Mono',consolas,'Courier New',monospace\"><span style=\"font-weight: bold\">Model: \"sequential\"</span>\n",
       "</pre>\n"
      ],
      "text/plain": [
       "\u001b[1mModel: \"sequential\"\u001b[0m\n"
      ]
     },
     "metadata": {},
     "output_type": "display_data"
    },
    {
     "data": {
      "text/html": [
       "<pre style=\"white-space:pre;overflow-x:auto;line-height:normal;font-family:Menlo,'DejaVu Sans Mono',consolas,'Courier New',monospace\">┏━━━━━━━━━━━━━━━━━━━━━━━━━━━━━━━━━┳━━━━━━━━━━━━━━━━━━━━━━━━┳━━━━━━━━━━━━━━━┓\n",
       "┃<span style=\"font-weight: bold\"> Layer (type)                    </span>┃<span style=\"font-weight: bold\"> Output Shape           </span>┃<span style=\"font-weight: bold\">       Param # </span>┃\n",
       "┡━━━━━━━━━━━━━━━━━━━━━━━━━━━━━━━━━╇━━━━━━━━━━━━━━━━━━━━━━━━╇━━━━━━━━━━━━━━━┩\n",
       "│ conv2d (<span style=\"color: #0087ff; text-decoration-color: #0087ff\">Conv2D</span>)                 │ (<span style=\"color: #00d7ff; text-decoration-color: #00d7ff\">None</span>, <span style=\"color: #00af00; text-decoration-color: #00af00\">26</span>, <span style=\"color: #00af00; text-decoration-color: #00af00\">26</span>, <span style=\"color: #00af00; text-decoration-color: #00af00\">32</span>)     │           <span style=\"color: #00af00; text-decoration-color: #00af00\">320</span> │\n",
       "├─────────────────────────────────┼────────────────────────┼───────────────┤\n",
       "│ batch_normalization             │ (<span style=\"color: #00d7ff; text-decoration-color: #00d7ff\">None</span>, <span style=\"color: #00af00; text-decoration-color: #00af00\">26</span>, <span style=\"color: #00af00; text-decoration-color: #00af00\">26</span>, <span style=\"color: #00af00; text-decoration-color: #00af00\">32</span>)     │           <span style=\"color: #00af00; text-decoration-color: #00af00\">128</span> │\n",
       "│ (<span style=\"color: #0087ff; text-decoration-color: #0087ff\">BatchNormalization</span>)            │                        │               │\n",
       "├─────────────────────────────────┼────────────────────────┼───────────────┤\n",
       "│ conv2d_1 (<span style=\"color: #0087ff; text-decoration-color: #0087ff\">Conv2D</span>)               │ (<span style=\"color: #00d7ff; text-decoration-color: #00d7ff\">None</span>, <span style=\"color: #00af00; text-decoration-color: #00af00\">24</span>, <span style=\"color: #00af00; text-decoration-color: #00af00\">24</span>, <span style=\"color: #00af00; text-decoration-color: #00af00\">32</span>)     │         <span style=\"color: #00af00; text-decoration-color: #00af00\">9,248</span> │\n",
       "├─────────────────────────────────┼────────────────────────┼───────────────┤\n",
       "│ max_pooling2d (<span style=\"color: #0087ff; text-decoration-color: #0087ff\">MaxPooling2D</span>)    │ (<span style=\"color: #00d7ff; text-decoration-color: #00d7ff\">None</span>, <span style=\"color: #00af00; text-decoration-color: #00af00\">12</span>, <span style=\"color: #00af00; text-decoration-color: #00af00\">12</span>, <span style=\"color: #00af00; text-decoration-color: #00af00\">32</span>)     │             <span style=\"color: #00af00; text-decoration-color: #00af00\">0</span> │\n",
       "├─────────────────────────────────┼────────────────────────┼───────────────┤\n",
       "│ dropout (<span style=\"color: #0087ff; text-decoration-color: #0087ff\">Dropout</span>)               │ (<span style=\"color: #00d7ff; text-decoration-color: #00d7ff\">None</span>, <span style=\"color: #00af00; text-decoration-color: #00af00\">12</span>, <span style=\"color: #00af00; text-decoration-color: #00af00\">12</span>, <span style=\"color: #00af00; text-decoration-color: #00af00\">32</span>)     │             <span style=\"color: #00af00; text-decoration-color: #00af00\">0</span> │\n",
       "├─────────────────────────────────┼────────────────────────┼───────────────┤\n",
       "│ conv2d_2 (<span style=\"color: #0087ff; text-decoration-color: #0087ff\">Conv2D</span>)               │ (<span style=\"color: #00d7ff; text-decoration-color: #00d7ff\">None</span>, <span style=\"color: #00af00; text-decoration-color: #00af00\">10</span>, <span style=\"color: #00af00; text-decoration-color: #00af00\">10</span>, <span style=\"color: #00af00; text-decoration-color: #00af00\">64</span>)     │        <span style=\"color: #00af00; text-decoration-color: #00af00\">18,496</span> │\n",
       "├─────────────────────────────────┼────────────────────────┼───────────────┤\n",
       "│ batch_normalization_1           │ (<span style=\"color: #00d7ff; text-decoration-color: #00d7ff\">None</span>, <span style=\"color: #00af00; text-decoration-color: #00af00\">10</span>, <span style=\"color: #00af00; text-decoration-color: #00af00\">10</span>, <span style=\"color: #00af00; text-decoration-color: #00af00\">64</span>)     │           <span style=\"color: #00af00; text-decoration-color: #00af00\">256</span> │\n",
       "│ (<span style=\"color: #0087ff; text-decoration-color: #0087ff\">BatchNormalization</span>)            │                        │               │\n",
       "├─────────────────────────────────┼────────────────────────┼───────────────┤\n",
       "│ conv2d_3 (<span style=\"color: #0087ff; text-decoration-color: #0087ff\">Conv2D</span>)               │ (<span style=\"color: #00d7ff; text-decoration-color: #00d7ff\">None</span>, <span style=\"color: #00af00; text-decoration-color: #00af00\">8</span>, <span style=\"color: #00af00; text-decoration-color: #00af00\">8</span>, <span style=\"color: #00af00; text-decoration-color: #00af00\">64</span>)       │        <span style=\"color: #00af00; text-decoration-color: #00af00\">36,928</span> │\n",
       "├─────────────────────────────────┼────────────────────────┼───────────────┤\n",
       "│ max_pooling2d_1 (<span style=\"color: #0087ff; text-decoration-color: #0087ff\">MaxPooling2D</span>)  │ (<span style=\"color: #00d7ff; text-decoration-color: #00d7ff\">None</span>, <span style=\"color: #00af00; text-decoration-color: #00af00\">4</span>, <span style=\"color: #00af00; text-decoration-color: #00af00\">4</span>, <span style=\"color: #00af00; text-decoration-color: #00af00\">64</span>)       │             <span style=\"color: #00af00; text-decoration-color: #00af00\">0</span> │\n",
       "├─────────────────────────────────┼────────────────────────┼───────────────┤\n",
       "│ dropout_1 (<span style=\"color: #0087ff; text-decoration-color: #0087ff\">Dropout</span>)             │ (<span style=\"color: #00d7ff; text-decoration-color: #00d7ff\">None</span>, <span style=\"color: #00af00; text-decoration-color: #00af00\">4</span>, <span style=\"color: #00af00; text-decoration-color: #00af00\">4</span>, <span style=\"color: #00af00; text-decoration-color: #00af00\">64</span>)       │             <span style=\"color: #00af00; text-decoration-color: #00af00\">0</span> │\n",
       "├─────────────────────────────────┼────────────────────────┼───────────────┤\n",
       "│ flatten (<span style=\"color: #0087ff; text-decoration-color: #0087ff\">Flatten</span>)               │ (<span style=\"color: #00d7ff; text-decoration-color: #00d7ff\">None</span>, <span style=\"color: #00af00; text-decoration-color: #00af00\">1024</span>)           │             <span style=\"color: #00af00; text-decoration-color: #00af00\">0</span> │\n",
       "├─────────────────────────────────┼────────────────────────┼───────────────┤\n",
       "│ dense (<span style=\"color: #0087ff; text-decoration-color: #0087ff\">Dense</span>)                   │ (<span style=\"color: #00d7ff; text-decoration-color: #00d7ff\">None</span>, <span style=\"color: #00af00; text-decoration-color: #00af00\">256</span>)            │       <span style=\"color: #00af00; text-decoration-color: #00af00\">262,400</span> │\n",
       "├─────────────────────────────────┼────────────────────────┼───────────────┤\n",
       "│ dropout_2 (<span style=\"color: #0087ff; text-decoration-color: #0087ff\">Dropout</span>)             │ (<span style=\"color: #00d7ff; text-decoration-color: #00d7ff\">None</span>, <span style=\"color: #00af00; text-decoration-color: #00af00\">256</span>)            │             <span style=\"color: #00af00; text-decoration-color: #00af00\">0</span> │\n",
       "├─────────────────────────────────┼────────────────────────┼───────────────┤\n",
       "│ dense_1 (<span style=\"color: #0087ff; text-decoration-color: #0087ff\">Dense</span>)                 │ (<span style=\"color: #00d7ff; text-decoration-color: #00d7ff\">None</span>, <span style=\"color: #00af00; text-decoration-color: #00af00\">24</span>)             │         <span style=\"color: #00af00; text-decoration-color: #00af00\">6,168</span> │\n",
       "└─────────────────────────────────┴────────────────────────┴───────────────┘\n",
       "</pre>\n"
      ],
      "text/plain": [
       "┏━━━━━━━━━━━━━━━━━━━━━━━━━━━━━━━━━┳━━━━━━━━━━━━━━━━━━━━━━━━┳━━━━━━━━━━━━━━━┓\n",
       "┃\u001b[1m \u001b[0m\u001b[1mLayer (type)                   \u001b[0m\u001b[1m \u001b[0m┃\u001b[1m \u001b[0m\u001b[1mOutput Shape          \u001b[0m\u001b[1m \u001b[0m┃\u001b[1m \u001b[0m\u001b[1m      Param #\u001b[0m\u001b[1m \u001b[0m┃\n",
       "┡━━━━━━━━━━━━━━━━━━━━━━━━━━━━━━━━━╇━━━━━━━━━━━━━━━━━━━━━━━━╇━━━━━━━━━━━━━━━┩\n",
       "│ conv2d (\u001b[38;5;33mConv2D\u001b[0m)                 │ (\u001b[38;5;45mNone\u001b[0m, \u001b[38;5;34m26\u001b[0m, \u001b[38;5;34m26\u001b[0m, \u001b[38;5;34m32\u001b[0m)     │           \u001b[38;5;34m320\u001b[0m │\n",
       "├─────────────────────────────────┼────────────────────────┼───────────────┤\n",
       "│ batch_normalization             │ (\u001b[38;5;45mNone\u001b[0m, \u001b[38;5;34m26\u001b[0m, \u001b[38;5;34m26\u001b[0m, \u001b[38;5;34m32\u001b[0m)     │           \u001b[38;5;34m128\u001b[0m │\n",
       "│ (\u001b[38;5;33mBatchNormalization\u001b[0m)            │                        │               │\n",
       "├─────────────────────────────────┼────────────────────────┼───────────────┤\n",
       "│ conv2d_1 (\u001b[38;5;33mConv2D\u001b[0m)               │ (\u001b[38;5;45mNone\u001b[0m, \u001b[38;5;34m24\u001b[0m, \u001b[38;5;34m24\u001b[0m, \u001b[38;5;34m32\u001b[0m)     │         \u001b[38;5;34m9,248\u001b[0m │\n",
       "├─────────────────────────────────┼────────────────────────┼───────────────┤\n",
       "│ max_pooling2d (\u001b[38;5;33mMaxPooling2D\u001b[0m)    │ (\u001b[38;5;45mNone\u001b[0m, \u001b[38;5;34m12\u001b[0m, \u001b[38;5;34m12\u001b[0m, \u001b[38;5;34m32\u001b[0m)     │             \u001b[38;5;34m0\u001b[0m │\n",
       "├─────────────────────────────────┼────────────────────────┼───────────────┤\n",
       "│ dropout (\u001b[38;5;33mDropout\u001b[0m)               │ (\u001b[38;5;45mNone\u001b[0m, \u001b[38;5;34m12\u001b[0m, \u001b[38;5;34m12\u001b[0m, \u001b[38;5;34m32\u001b[0m)     │             \u001b[38;5;34m0\u001b[0m │\n",
       "├─────────────────────────────────┼────────────────────────┼───────────────┤\n",
       "│ conv2d_2 (\u001b[38;5;33mConv2D\u001b[0m)               │ (\u001b[38;5;45mNone\u001b[0m, \u001b[38;5;34m10\u001b[0m, \u001b[38;5;34m10\u001b[0m, \u001b[38;5;34m64\u001b[0m)     │        \u001b[38;5;34m18,496\u001b[0m │\n",
       "├─────────────────────────────────┼────────────────────────┼───────────────┤\n",
       "│ batch_normalization_1           │ (\u001b[38;5;45mNone\u001b[0m, \u001b[38;5;34m10\u001b[0m, \u001b[38;5;34m10\u001b[0m, \u001b[38;5;34m64\u001b[0m)     │           \u001b[38;5;34m256\u001b[0m │\n",
       "│ (\u001b[38;5;33mBatchNormalization\u001b[0m)            │                        │               │\n",
       "├─────────────────────────────────┼────────────────────────┼───────────────┤\n",
       "│ conv2d_3 (\u001b[38;5;33mConv2D\u001b[0m)               │ (\u001b[38;5;45mNone\u001b[0m, \u001b[38;5;34m8\u001b[0m, \u001b[38;5;34m8\u001b[0m, \u001b[38;5;34m64\u001b[0m)       │        \u001b[38;5;34m36,928\u001b[0m │\n",
       "├─────────────────────────────────┼────────────────────────┼───────────────┤\n",
       "│ max_pooling2d_1 (\u001b[38;5;33mMaxPooling2D\u001b[0m)  │ (\u001b[38;5;45mNone\u001b[0m, \u001b[38;5;34m4\u001b[0m, \u001b[38;5;34m4\u001b[0m, \u001b[38;5;34m64\u001b[0m)       │             \u001b[38;5;34m0\u001b[0m │\n",
       "├─────────────────────────────────┼────────────────────────┼───────────────┤\n",
       "│ dropout_1 (\u001b[38;5;33mDropout\u001b[0m)             │ (\u001b[38;5;45mNone\u001b[0m, \u001b[38;5;34m4\u001b[0m, \u001b[38;5;34m4\u001b[0m, \u001b[38;5;34m64\u001b[0m)       │             \u001b[38;5;34m0\u001b[0m │\n",
       "├─────────────────────────────────┼────────────────────────┼───────────────┤\n",
       "│ flatten (\u001b[38;5;33mFlatten\u001b[0m)               │ (\u001b[38;5;45mNone\u001b[0m, \u001b[38;5;34m1024\u001b[0m)           │             \u001b[38;5;34m0\u001b[0m │\n",
       "├─────────────────────────────────┼────────────────────────┼───────────────┤\n",
       "│ dense (\u001b[38;5;33mDense\u001b[0m)                   │ (\u001b[38;5;45mNone\u001b[0m, \u001b[38;5;34m256\u001b[0m)            │       \u001b[38;5;34m262,400\u001b[0m │\n",
       "├─────────────────────────────────┼────────────────────────┼───────────────┤\n",
       "│ dropout_2 (\u001b[38;5;33mDropout\u001b[0m)             │ (\u001b[38;5;45mNone\u001b[0m, \u001b[38;5;34m256\u001b[0m)            │             \u001b[38;5;34m0\u001b[0m │\n",
       "├─────────────────────────────────┼────────────────────────┼───────────────┤\n",
       "│ dense_1 (\u001b[38;5;33mDense\u001b[0m)                 │ (\u001b[38;5;45mNone\u001b[0m, \u001b[38;5;34m24\u001b[0m)             │         \u001b[38;5;34m6,168\u001b[0m │\n",
       "└─────────────────────────────────┴────────────────────────┴───────────────┘\n"
      ]
     },
     "metadata": {},
     "output_type": "display_data"
    },
    {
     "data": {
      "text/html": [
       "<pre style=\"white-space:pre;overflow-x:auto;line-height:normal;font-family:Menlo,'DejaVu Sans Mono',consolas,'Courier New',monospace\"><span style=\"font-weight: bold\"> Total params: </span><span style=\"color: #00af00; text-decoration-color: #00af00\">333,944</span> (1.27 MB)\n",
       "</pre>\n"
      ],
      "text/plain": [
       "\u001b[1m Total params: \u001b[0m\u001b[38;5;34m333,944\u001b[0m (1.27 MB)\n"
      ]
     },
     "metadata": {},
     "output_type": "display_data"
    },
    {
     "data": {
      "text/html": [
       "<pre style=\"white-space:pre;overflow-x:auto;line-height:normal;font-family:Menlo,'DejaVu Sans Mono',consolas,'Courier New',monospace\"><span style=\"font-weight: bold\"> Trainable params: </span><span style=\"color: #00af00; text-decoration-color: #00af00\">333,752</span> (1.27 MB)\n",
       "</pre>\n"
      ],
      "text/plain": [
       "\u001b[1m Trainable params: \u001b[0m\u001b[38;5;34m333,752\u001b[0m (1.27 MB)\n"
      ]
     },
     "metadata": {},
     "output_type": "display_data"
    },
    {
     "data": {
      "text/html": [
       "<pre style=\"white-space:pre;overflow-x:auto;line-height:normal;font-family:Menlo,'DejaVu Sans Mono',consolas,'Courier New',monospace\"><span style=\"font-weight: bold\"> Non-trainable params: </span><span style=\"color: #00af00; text-decoration-color: #00af00\">192</span> (768.00 B)\n",
       "</pre>\n"
      ],
      "text/plain": [
       "\u001b[1m Non-trainable params: \u001b[0m\u001b[38;5;34m192\u001b[0m (768.00 B)\n"
      ]
     },
     "metadata": {},
     "output_type": "display_data"
    }
   ],
   "source": [
    "def build_cnn(input_shape=(28,28,1), num_classes=24):\n",
    "    model = models.Sequential([\n",
    "        layers.Conv2D(32, (3,3), activation='relu', input_shape=input_shape),\n",
    "        layers.BatchNormalization(),\n",
    "        layers.Conv2D(32, (3,3), activation='relu'),\n",
    "        layers.MaxPooling2D(2,2),\n",
    "        layers.Dropout(0.25),\n",
    "\n",
    "        layers.Conv2D(64, (3,3), activation='relu'),\n",
    "        layers.BatchNormalization(),\n",
    "        layers.Conv2D(64, (3,3), activation='relu'),\n",
    "        layers.MaxPooling2D(2,2),\n",
    "        layers.Dropout(0.3),\n",
    "\n",
    "        layers.Flatten(),\n",
    "        layers.Dense(256, activation='relu'),\n",
    "        layers.Dropout(0.5),\n",
    "        layers.Dense(num_classes, activation='softmax')\n",
    "    ])\n",
    "    model.compile(optimizer='adam', loss='sparse_categorical_crossentropy', metrics=['accuracy'])\n",
    "    return model\n",
    "\n",
    "model = build_cnn()\n",
    "model.summary()\n"
   ]
  },
  {
   "cell_type": "markdown",
   "id": "8608adae",
   "metadata": {},
   "source": [
    "## 🏋️ Training the Model\n",
    "\n",
    "We trained the CNN model using the augmented dataset with the following setup:\n",
    "\n",
    "- **Data Augmentation**:  \n",
    "  - Random rotation (±10°)  \n",
    "  - Width and height shifts (±10%)  \n",
    "  - Zoom (±10%)  \n",
    "  This helps the model generalize better to unseen hand gestures.\n",
    "\n",
    "- **Callbacks**:  \n",
    "  - `EarlyStopping`: Stops training if validation accuracy does not improve for 7 epochs, preventing overfitting.  \n",
    "  - `ModelCheckpoint`: Saves the best model (`sign_mnist_cnn.h5`) based on validation accuracy.  \n",
    "\n",
    "- **Training Configuration**:  \n",
    "  - Batch size: **128**  \n",
    "  - Epochs: **30** (with early stopping, may stop earlier)  \n",
    "  - Optimizer: **Adam**  \n",
    "  - Loss: **Sparse Categorical Crossentropy**  \n",
    "  - Metrics: **Accuracy**\n",
    "\n",
    "This setup ensures that the model achieves high performance while avoiding overfitting and saving the best-performing weights automatically.\n"
   ]
  },
  {
   "cell_type": "code",
   "execution_count": 9,
   "id": "2164db10",
   "metadata": {},
   "outputs": [
    {
     "name": "stdout",
     "output_type": "stream",
     "text": [
      "Epoch 1/30\n"
     ]
    },
    {
     "name": "stderr",
     "output_type": "stream",
     "text": [
      "WARNING:absl:You are saving your model as an HDF5 file via `model.save()` or `keras.saving.save_model(model)`. This file format is considered legacy. We recommend using instead the native Keras format, e.g. `model.save('my_model.keras')` or `keras.saving.save_model(model, 'my_model.keras')`. \n"
     ]
    },
    {
     "name": "stdout",
     "output_type": "stream",
     "text": [
      "194/194 - 16s - 83ms/step - accuracy: 0.3012 - loss: 2.2999 - val_accuracy: 0.0495 - val_loss: 5.2136\n",
      "Epoch 2/30\n"
     ]
    },
    {
     "name": "stderr",
     "output_type": "stream",
     "text": [
      "WARNING:absl:You are saving your model as an HDF5 file via `model.save()` or `keras.saving.save_model(model)`. This file format is considered legacy. We recommend using instead the native Keras format, e.g. `model.save('my_model.keras')` or `keras.saving.save_model(model, 'my_model.keras')`. \n"
     ]
    },
    {
     "name": "stdout",
     "output_type": "stream",
     "text": [
      "194/194 - 21s - 108ms/step - accuracy: 0.6541 - loss: 0.9957 - val_accuracy: 0.0641 - val_loss: 5.2346\n",
      "Epoch 3/30\n"
     ]
    },
    {
     "name": "stderr",
     "output_type": "stream",
     "text": [
      "WARNING:absl:You are saving your model as an HDF5 file via `model.save()` or `keras.saving.save_model(model)`. This file format is considered legacy. We recommend using instead the native Keras format, e.g. `model.save('my_model.keras')` or `keras.saving.save_model(model, 'my_model.keras')`. \n"
     ]
    },
    {
     "name": "stdout",
     "output_type": "stream",
     "text": [
      "194/194 - 26s - 135ms/step - accuracy: 0.7981 - loss: 0.5816 - val_accuracy: 0.9195 - val_loss: 0.3861\n",
      "Epoch 4/30\n"
     ]
    },
    {
     "name": "stderr",
     "output_type": "stream",
     "text": [
      "WARNING:absl:You are saving your model as an HDF5 file via `model.save()` or `keras.saving.save_model(model)`. This file format is considered legacy. We recommend using instead the native Keras format, e.g. `model.save('my_model.keras')` or `keras.saving.save_model(model, 'my_model.keras')`. \n"
     ]
    },
    {
     "name": "stdout",
     "output_type": "stream",
     "text": [
      "194/194 - 28s - 143ms/step - accuracy: 0.8620 - loss: 0.3959 - val_accuracy: 0.9960 - val_loss: 0.0420\n",
      "Epoch 5/30\n",
      "194/194 - 31s - 158ms/step - accuracy: 0.9021 - loss: 0.2876 - val_accuracy: 0.9880 - val_loss: 0.0496\n",
      "Epoch 6/30\n",
      "194/194 - 40s - 206ms/step - accuracy: 0.9311 - loss: 0.2035 - val_accuracy: 0.9934 - val_loss: 0.0225\n",
      "Epoch 7/30\n",
      "194/194 - 35s - 179ms/step - accuracy: 0.9485 - loss: 0.1531 - val_accuracy: 0.9898 - val_loss: 0.0314\n",
      "Epoch 8/30\n",
      "194/194 - 25s - 130ms/step - accuracy: 0.9539 - loss: 0.1420 - val_accuracy: 0.6016 - val_loss: 1.9440\n",
      "Epoch 9/30\n",
      "194/194 - 32s - 167ms/step - accuracy: 0.9500 - loss: 0.1506 - val_accuracy: 0.9898 - val_loss: 0.0242\n",
      "Epoch 10/30\n",
      "194/194 - 31s - 161ms/step - accuracy: 0.9669 - loss: 0.0999 - val_accuracy: 0.9843 - val_loss: 0.0420\n",
      "Epoch 11/30\n"
     ]
    },
    {
     "name": "stderr",
     "output_type": "stream",
     "text": [
      "WARNING:absl:You are saving your model as an HDF5 file via `model.save()` or `keras.saving.save_model(model)`. This file format is considered legacy. We recommend using instead the native Keras format, e.g. `model.save('my_model.keras')` or `keras.saving.save_model(model, 'my_model.keras')`. \n"
     ]
    },
    {
     "name": "stdout",
     "output_type": "stream",
     "text": [
      "194/194 - 31s - 159ms/step - accuracy: 0.9753 - loss: 0.0756 - val_accuracy: 0.9989 - val_loss: 0.0068\n",
      "Epoch 12/30\n"
     ]
    },
    {
     "name": "stderr",
     "output_type": "stream",
     "text": [
      "WARNING:absl:You are saving your model as an HDF5 file via `model.save()` or `keras.saving.save_model(model)`. This file format is considered legacy. We recommend using instead the native Keras format, e.g. `model.save('my_model.keras')` or `keras.saving.save_model(model, 'my_model.keras')`. \n"
     ]
    },
    {
     "name": "stdout",
     "output_type": "stream",
     "text": [
      "194/194 - 31s - 160ms/step - accuracy: 0.9790 - loss: 0.0671 - val_accuracy: 1.0000 - val_loss: 1.1820e-04\n",
      "Epoch 13/30\n",
      "194/194 - 31s - 158ms/step - accuracy: 0.9806 - loss: 0.0630 - val_accuracy: 0.9996 - val_loss: 0.0011\n",
      "Epoch 14/30\n",
      "194/194 - 31s - 161ms/step - accuracy: 0.9817 - loss: 0.0561 - val_accuracy: 1.0000 - val_loss: 0.0015\n",
      "Epoch 15/30\n",
      "194/194 - 31s - 158ms/step - accuracy: 0.9836 - loss: 0.0488 - val_accuracy: 0.9949 - val_loss: 0.0111\n",
      "Epoch 16/30\n",
      "194/194 - 30s - 156ms/step - accuracy: 0.9843 - loss: 0.0501 - val_accuracy: 1.0000 - val_loss: 1.9410e-04\n",
      "Epoch 17/30\n",
      "194/194 - 32s - 165ms/step - accuracy: 0.9841 - loss: 0.0474 - val_accuracy: 1.0000 - val_loss: 1.8870e-05\n",
      "Epoch 18/30\n",
      "194/194 - 30s - 155ms/step - accuracy: 0.9874 - loss: 0.0405 - val_accuracy: 0.9996 - val_loss: 8.3065e-04\n",
      "Epoch 19/30\n",
      "194/194 - 32s - 162ms/step - accuracy: 0.9865 - loss: 0.0411 - val_accuracy: 0.9971 - val_loss: 0.0102\n"
     ]
    }
   ],
   "source": [
    "es = callbacks.EarlyStopping(monitor=\"val_accuracy\", patience=7, restore_best_weights=True)\n",
    "ckpt = callbacks.ModelCheckpoint(\"sign_mnist_cnn.h5\", monitor=\"val_accuracy\", save_best_only=True)\n",
    "\n",
    "history = model.fit(\n",
    "    datagen.flow(X_tr, y_tr, batch_size=128),\n",
    "    validation_data=(X_val, y_val),\n",
    "    epochs=30,\n",
    "    callbacks=[es, ckpt],\n",
    "    verbose=2\n",
    ")"
   ]
  },
  {
   "cell_type": "markdown",
   "id": "3ff132cb",
   "metadata": {},
   "source": [
    "## ✅ Model Evaluation\n",
    "\n",
    "After training, we evaluated the model on the **test dataset**:\n",
    "\n",
    "- **Test Accuracy**: The model achieved a high accuracy, showing its ability to generalize well to unseen data.  \n",
    "- **Classification Report**: Provides detailed metrics (precision, recall, F1-score) for each hand sign class.  \n",
    "\n",
    "This step ensures that the trained CNN model is not only performing well on the training/validation sets but also on completely new test data.\n"
   ]
  },
  {
   "cell_type": "code",
   "execution_count": 10,
   "id": "153a20cd",
   "metadata": {},
   "outputs": [
    {
     "name": "stdout",
     "output_type": "stream",
     "text": [
      "Test Accuracy: 0.9992\n",
      "              precision    recall  f1-score   support\n",
      "\n",
      "           0       1.00      1.00      1.00       331\n",
      "           1       1.00      1.00      1.00       432\n",
      "           2       1.00      1.00      1.00       310\n",
      "           3       1.00      1.00      1.00       245\n",
      "           4       1.00      1.00      1.00       498\n",
      "           5       1.00      1.00      1.00       247\n",
      "           6       0.99      1.00      0.99       348\n",
      "           7       1.00      0.99      1.00       436\n",
      "           8       1.00      1.00      1.00       288\n",
      "           9       1.00      1.00      1.00       331\n",
      "          10       1.00      1.00      1.00       209\n",
      "          11       1.00      1.00      1.00       394\n",
      "          12       1.00      1.00      1.00       291\n",
      "          13       1.00      1.00      1.00       246\n",
      "          14       1.00      1.00      1.00       347\n",
      "          15       1.00      1.00      1.00       164\n",
      "          16       1.00      1.00      1.00       144\n",
      "          17       1.00      1.00      1.00       246\n",
      "          18       1.00      1.00      1.00       248\n",
      "          19       0.99      1.00      1.00       266\n",
      "          20       1.00      1.00      1.00       346\n",
      "          21       1.00      1.00      1.00       206\n",
      "          22       1.00      1.00      1.00       267\n",
      "          23       1.00      1.00      1.00       332\n",
      "\n",
      "    accuracy                           1.00      7172\n",
      "   macro avg       1.00      1.00      1.00      7172\n",
      "weighted avg       1.00      1.00      1.00      7172\n",
      "\n"
     ]
    }
   ],
   "source": [
    "test_loss, test_acc = model.evaluate(X_test, y_test, verbose=0)\n",
    "print(\"Test Accuracy:\", round(test_acc, 4))\n",
    "\n",
    "y_pred = np.argmax(model.predict(X_test, verbose=0), axis=1)\n",
    "print(classification_report(y_test, y_pred))\n"
   ]
  },
  {
   "cell_type": "markdown",
   "id": "24cbdb28",
   "metadata": {},
   "source": [
    "## 🏷️ Label Mapping\n",
    "\n",
    "Since our dataset uses numeric labels (0–23), we need a **mapping** to actual sign language letters.\n",
    "\n",
    "We created a dictionary that maps each label to its corresponding **ASL letter** (e.g., `0 → A`, `1 → B`, ...).\n",
    "\n",
    "Finally, the mapping is saved into a **JSON file** (`label_map.json`) so it can be reused later in the Streamlit app or during predictions.\n"
   ]
  },
  {
   "cell_type": "code",
   "execution_count": 11,
   "id": "8694eb9a",
   "metadata": {},
   "outputs": [],
   "source": [
    "label_map = {\n",
    "    0:\"A\", 1:\"B\", 2:\"C\", 3:\"D\", 4:\"E\", 5:\"F\", 6:\"G\", 7:\"H\", 8:\"I\",\n",
    "    9:\"K\", 10:\"L\", 11:\"M\", 12:\"N\", 13:\"O\", 14:\"P\", 15:\"Q\", 16:\"R\",\n",
    "    17:\"S\", 18:\"T\", 19:\"U\", 20:\"V\", 21:\"W\", 22:\"X\", 23:\"Y\"\n",
    "}\n",
    "with open(\"label_map.json\", \"w\", encoding=\"utf-8\") as f:\n",
    "    json.dump(label_map, f, ensure_ascii=False, indent=2)\n"
   ]
  },
  {
   "cell_type": "markdown",
   "id": "f46d62eb",
   "metadata": {},
   "source": [
    "## 🔮 Making Predictions on New Images\n",
    "\n",
    "We created a helper function `predict_image` to test the trained CNN model on **new unseen images**.\n",
    "\n",
    "Steps:\n",
    "1. Load the image and convert it to grayscale.\n",
    "2. Resize to **28×28** pixels (same as training data).\n",
    "3. Normalize pixel values between 0 and 1.\n",
    "4. Invert colors if necessary (to match dataset format).\n",
    "5. Run the image through the CNN model.\n",
    "6. Return the **predicted letter** along with the **confidence score**.\n",
    "\n",
    "This allows us to test the model in real-time on any hand-sign image.\n"
   ]
  },
  {
   "cell_type": "code",
   "execution_count": 12,
   "id": "3eccd4c8",
   "metadata": {},
   "outputs": [],
   "source": [
    "def predict_image(model, path, label_map):\n",
    "    img = cv2.imread(path)\n",
    "    gray = cv2.cvtColor(img, cv2.COLOR_BGR2GRAY)\n",
    "    gray = cv2.resize(gray, (28, 28))\n",
    "\n",
    "    if np.mean(gray) > 127:\n",
    "        gray = 255 - gray\n",
    "\n",
    "    x = gray.astype(\"float32\") / 255.0\n",
    "    x = x.reshape(1, 28, 28, 1)\n",
    "\n",
    "    probs = model.predict(x, verbose=0)[0]\n",
    "    pred = np.argmax(probs)\n",
    "    conf = np.max(probs)\n",
    "\n",
    "    return label_map[str(pred)], conf"
   ]
  },
  {
   "cell_type": "markdown",
   "id": "fa6b1517",
   "metadata": {},
   "source": [
    "## 🔄 Fine-tuning the Model with Custom Dataset\n",
    "\n",
    "After training our CNN on the **Sign Language MNIST dataset (CSV)**,  \n",
    "we performed fine-tuning using an **image dataset stored in folders**.\n",
    "\n",
    "### 📂 Dataset Structure\n",
    "The dataset is organized in folders like this:\n"
   ]
  },
  {
   "cell_type": "markdown",
   "id": "8fb0ce26",
   "metadata": {},
   "source": [
    "Each folder corresponds to a letter class and contains its images.\n",
    "\n",
    "### ⚙️ Steps:\n",
    "1. **Image Preprocessing**  \n",
    "   - All images are resized to **28×28**.  \n",
    "   - Converted to **grayscale**.  \n",
    "   - Normalized to values between `0–1`.  \n",
    "\n",
    "2. **Data Augmentation**  \n",
    "   Used `ImageDataGenerator` to split data into **training (80%)** and **validation (20%)**.\n",
    "\n",
    "3. **Fine-tuning the Model**  \n",
    "   - Loaded the pre-trained CNN model (`sign_mnist_cnn.h5`).  \n",
    "   - Continued training (fine-tuning) on the folder dataset.  \n",
    "   - Applied callbacks:\n",
    "     - `EarlyStopping` (to avoid overfitting).  \n",
    "     - `ModelCheckpoint` (save best weights).  \n",
    "\n",
    "4. **Model Saving**  \n",
    "   Saved the fine-tuned model as `sign_mnist_finetuned.h5`.\n",
    "\n",
    "This step allows the model to adapt better to real-world images captured from camera or external sources.\n"
   ]
  },
  {
   "cell_type": "code",
   "execution_count": 13,
   "id": "e616a2f3",
   "metadata": {},
   "outputs": [
    {
     "name": "stdout",
     "output_type": "stream",
     "text": [
      "Found 1340 images belonging to 24 classes.\n",
      "Found 335 images belonging to 24 classes.\n",
      "Epoch 1/15\n"
     ]
    },
    {
     "name": "stderr",
     "output_type": "stream",
     "text": [
      "WARNING:absl:You are saving your model as an HDF5 file via `model.save()` or `keras.saving.save_model(model)`. This file format is considered legacy. We recommend using instead the native Keras format, e.g. `model.save('my_model.keras')` or `keras.saving.save_model(model, 'my_model.keras')`. \n"
     ]
    },
    {
     "name": "stdout",
     "output_type": "stream",
     "text": [
      "42/42 - 10s - 240ms/step - accuracy: 0.5410 - loss: 1.8875 - val_accuracy: 0.8060 - val_loss: 0.6261\n",
      "Epoch 2/15\n"
     ]
    },
    {
     "name": "stderr",
     "output_type": "stream",
     "text": [
      "WARNING:absl:You are saving your model as an HDF5 file via `model.save()` or `keras.saving.save_model(model)`. This file format is considered legacy. We recommend using instead the native Keras format, e.g. `model.save('my_model.keras')` or `keras.saving.save_model(model, 'my_model.keras')`. \n"
     ]
    },
    {
     "name": "stdout",
     "output_type": "stream",
     "text": [
      "42/42 - 5s - 118ms/step - accuracy: 0.7933 - loss: 0.5953 - val_accuracy: 0.8567 - val_loss: 0.5128\n",
      "Epoch 3/15\n"
     ]
    },
    {
     "name": "stderr",
     "output_type": "stream",
     "text": [
      "WARNING:absl:You are saving your model as an HDF5 file via `model.save()` or `keras.saving.save_model(model)`. This file format is considered legacy. We recommend using instead the native Keras format, e.g. `model.save('my_model.keras')` or `keras.saving.save_model(model, 'my_model.keras')`. \n"
     ]
    },
    {
     "name": "stdout",
     "output_type": "stream",
     "text": [
      "42/42 - 5s - 113ms/step - accuracy: 0.8724 - loss: 0.3777 - val_accuracy: 0.9075 - val_loss: 0.2932\n",
      "Epoch 4/15\n"
     ]
    },
    {
     "name": "stderr",
     "output_type": "stream",
     "text": [
      "WARNING:absl:You are saving your model as an HDF5 file via `model.save()` or `keras.saving.save_model(model)`. This file format is considered legacy. We recommend using instead the native Keras format, e.g. `model.save('my_model.keras')` or `keras.saving.save_model(model, 'my_model.keras')`. \n"
     ]
    },
    {
     "name": "stdout",
     "output_type": "stream",
     "text": [
      "42/42 - 4s - 104ms/step - accuracy: 0.9104 - loss: 0.2547 - val_accuracy: 0.9104 - val_loss: 0.2628\n",
      "Epoch 5/15\n"
     ]
    },
    {
     "name": "stderr",
     "output_type": "stream",
     "text": [
      "WARNING:absl:You are saving your model as an HDF5 file via `model.save()` or `keras.saving.save_model(model)`. This file format is considered legacy. We recommend using instead the native Keras format, e.g. `model.save('my_model.keras')` or `keras.saving.save_model(model, 'my_model.keras')`. \n"
     ]
    },
    {
     "name": "stdout",
     "output_type": "stream",
     "text": [
      "42/42 - 5s - 110ms/step - accuracy: 0.9373 - loss: 0.1807 - val_accuracy: 0.9493 - val_loss: 0.1286\n",
      "Epoch 6/15\n",
      "42/42 - 5s - 128ms/step - accuracy: 0.9485 - loss: 0.1640 - val_accuracy: 0.9463 - val_loss: 0.1114\n",
      "Epoch 7/15\n"
     ]
    },
    {
     "name": "stderr",
     "output_type": "stream",
     "text": [
      "WARNING:absl:You are saving your model as an HDF5 file via `model.save()` or `keras.saving.save_model(model)`. This file format is considered legacy. We recommend using instead the native Keras format, e.g. `model.save('my_model.keras')` or `keras.saving.save_model(model, 'my_model.keras')`. \n"
     ]
    },
    {
     "name": "stdout",
     "output_type": "stream",
     "text": [
      "42/42 - 4s - 107ms/step - accuracy: 0.9530 - loss: 0.1313 - val_accuracy: 0.9582 - val_loss: 0.1233\n",
      "Epoch 8/15\n"
     ]
    },
    {
     "name": "stderr",
     "output_type": "stream",
     "text": [
      "WARNING:absl:You are saving your model as an HDF5 file via `model.save()` or `keras.saving.save_model(model)`. This file format is considered legacy. We recommend using instead the native Keras format, e.g. `model.save('my_model.keras')` or `keras.saving.save_model(model, 'my_model.keras')`. \n"
     ]
    },
    {
     "name": "stdout",
     "output_type": "stream",
     "text": [
      "42/42 - 5s - 119ms/step - accuracy: 0.9575 - loss: 0.1098 - val_accuracy: 0.9672 - val_loss: 0.1120\n",
      "Epoch 9/15\n",
      "42/42 - 5s - 116ms/step - accuracy: 0.9657 - loss: 0.1010 - val_accuracy: 0.9463 - val_loss: 0.2067\n",
      "Epoch 10/15\n",
      "42/42 - 5s - 112ms/step - accuracy: 0.9799 - loss: 0.0704 - val_accuracy: 0.9463 - val_loss: 0.1383\n",
      "Epoch 11/15\n"
     ]
    },
    {
     "name": "stderr",
     "output_type": "stream",
     "text": [
      "WARNING:absl:You are saving your model as an HDF5 file via `model.save()` or `keras.saving.save_model(model)`. This file format is considered legacy. We recommend using instead the native Keras format, e.g. `model.save('my_model.keras')` or `keras.saving.save_model(model, 'my_model.keras')`. \n"
     ]
    },
    {
     "name": "stdout",
     "output_type": "stream",
     "text": [
      "42/42 - 5s - 111ms/step - accuracy: 0.9754 - loss: 0.0659 - val_accuracy: 0.9761 - val_loss: 0.1120\n",
      "Epoch 12/15\n",
      "42/42 - 4s - 106ms/step - accuracy: 0.9746 - loss: 0.0645 - val_accuracy: 0.9701 - val_loss: 0.0966\n",
      "Epoch 13/15\n",
      "42/42 - 5s - 110ms/step - accuracy: 0.9813 - loss: 0.0605 - val_accuracy: 0.9493 - val_loss: 0.1803\n",
      "Epoch 14/15\n",
      "42/42 - 5s - 115ms/step - accuracy: 0.9821 - loss: 0.0668 - val_accuracy: 0.9701 - val_loss: 0.0862\n",
      "Epoch 15/15\n",
      "42/42 - 5s - 113ms/step - accuracy: 0.9866 - loss: 0.0401 - val_accuracy: 0.9731 - val_loss: 0.0929\n"
     ]
    },
    {
     "name": "stderr",
     "output_type": "stream",
     "text": [
      "WARNING:absl:You are saving your model as an HDF5 file via `model.save()` or `keras.saving.save_model(model)`. This file format is considered legacy. We recommend using instead the native Keras format, e.g. `model.save('my_model.keras')` or `keras.saving.save_model(model, 'my_model.keras')`. \n"
     ]
    }
   ],
   "source": [
    "import tensorflow as tf\n",
    "from tensorflow.keras.preprocessing.image import ImageDataGenerator\n",
    "from tensorflow.keras import callbacks\n",
    "\n",
    "\n",
    "datagen = ImageDataGenerator(\n",
    "    rescale=1./255,\n",
    "    validation_split=0.2\n",
    ")\n",
    "\n",
    "train_gen = datagen.flow_from_directory(\n",
    "    \"dataset\",\n",
    "    target_size=(28,28),      \n",
    "    color_mode=\"grayscale\",  \n",
    "    batch_size=32,\n",
    "    class_mode=\"sparse\",\n",
    "    subset=\"training\"\n",
    ")\n",
    "\n",
    "val_gen = datagen.flow_from_directory(\n",
    "    \"dataset\",\n",
    "    target_size=(28,28),\n",
    "    color_mode=\"grayscale\",\n",
    "    batch_size=32,\n",
    "    class_mode=\"sparse\",\n",
    "    subset=\"validation\"\n",
    ")\n",
    "\n",
    "model = build_cnn(input_shape=(28,28,1), num_classes=24)\n",
    "\n",
    "model.load_weights(\"sign_mnist_cnn.h5\")\n",
    "\n",
    "\n",
    "es = callbacks.EarlyStopping(monitor=\"val_accuracy\", patience=5, restore_best_weights=True)\n",
    "ckpt = callbacks.ModelCheckpoint(\"sign_mnist_finetuned.h5\", monitor=\"val_accuracy\", save_best_only=True)\n",
    "\n",
    "history = model.fit(\n",
    "    train_gen,\n",
    "    validation_data=val_gen,\n",
    "    epochs=15,\n",
    "    callbacks=[es, ckpt],\n",
    "    verbose=2\n",
    ")\n",
    "\n",
    "\n",
    "model.save(\"sign_mnist_finetuned.h5\")\n"
   ]
  },
  {
   "cell_type": "markdown",
   "id": "f94bb915",
   "metadata": {},
   "source": [
    "# Creating and Saving the Label Map\n",
    "\n",
    "This code is used to generate a mapping between class indices (numbers) and their corresponding sign language letters, then save that mapping into a JSON file.\n",
    "\n",
    "---\n",
    "\n",
    "## Code Explanation\n",
    "\n",
    "### 1. Import the JSON Library\n",
    "```python\n",
    "import json\n"
   ]
  },
  {
   "cell_type": "code",
   "execution_count": 14,
   "id": "dc7a26f9",
   "metadata": {},
   "outputs": [
    {
     "name": "stdout",
     "output_type": "stream",
     "text": [
      "class_indices: {'a': 0, 'b': 1, 'c': 2, 'd': 3, 'e': 4, 'f': 5, 'g': 6, 'h': 7, 'i': 8, 'k': 9, 'l': 10, 'm': 11, 'n': 12, 'o': 13, 'p': 14, 'q': 15, 'r': 16, 's': 17, 't': 18, 'u': 19, 'v': 20, 'w': 21, 'x': 22, 'y': 23}\n",
      "label_map:     {'0': 'A', '1': 'B', '2': 'C', '3': 'D', '4': 'E', '5': 'F', '6': 'G', '7': 'H', '8': 'I', '9': 'K', '10': 'L', '11': 'M', '12': 'N', '13': 'O', '14': 'P', '15': 'Q', '16': 'R', '17': 'S', '18': 'T', '19': 'U', '20': 'V', '21': 'W', '22': 'X', '23': 'Y'}\n"
     ]
    }
   ],
   "source": [
    "import json\n",
    "\n",
    "class_indices = train_gen.class_indices  \n",
    "label_map = {str(v): k.upper() for k, v in class_indices.items()}\n",
    "with open(\"label_map.json\",\"w\",encoding=\"utf-8\") as f:\n",
    "    json.dump(label_map, f, ensure_ascii=False, indent=2)\n",
    "\n",
    "print(\"class_indices:\", class_indices)\n",
    "print(\"label_map:    \", label_map)\n"
   ]
  },
  {
   "cell_type": "markdown",
   "id": "cc843c39",
   "metadata": {},
   "source": [
    "## 📝 Preprocessing & Prediction Functions\n",
    "\n",
    "In this section, we define two main functions that help us prepare images and make predictions:\n",
    "\n",
    "1. **`preprocess_28x28(path, debug=False)`**  \n",
    "   - Reads the input image and converts it to grayscale.  \n",
    "   - Applies thresholding and noise reduction to make the sign clearer.  \n",
    "   - Detects the hand region (ROI) and crops it.  \n",
    "   - Resizes the cropped image to 28×28 pixels (same as training data).  \n",
    "   - Normalizes pixel values to `[0,1]` and reshapes for CNN input.  \n",
    "   - If `debug=True`, it shows intermediate steps (Gray → Threshold → Morph → Final).\n",
    "\n",
    "2. **`predict_image(model, path, label_map, debug=False, topk=3)`**  \n",
    "   - Uses the preprocessing function to prepare the image.  \n",
    "   - Passes the processed image to the trained CNN model.  \n",
    "   - Returns the **predicted label** and its **confidence score**.  \n",
    "   - Can also return the **Top-K predictions** with probabilities.\n",
    "\n",
    "👉 These functions allow us to take any external image, preprocess it correctly, and predict the corresponding sign language letter using our trained model.\n"
   ]
  },
  {
   "cell_type": "code",
   "execution_count": 15,
   "id": "a7f198fb",
   "metadata": {},
   "outputs": [],
   "source": [
    "import cv2, numpy as np\n",
    "import matplotlib.pyplot as plt\n",
    "\n",
    "def preprocess_28x28(path, debug=False):\n",
    "    # 1) اقرأ وحوّل لجراي\n",
    "    img  = cv2.imread(path)\n",
    "    gray = cv2.cvtColor(img, cv2.COLOR_BGR2GRAY)\n",
    "\n",
    "    _, thresh = cv2.threshold(gray, 0, 255, cv2.THRESH_BINARY_INV + cv2.THRESH_OTSU)\n",
    "\n",
    "    blur  = cv2.GaussianBlur(thresh, (3,3), 0)\n",
    "    kernel = np.ones((2,2), np.uint8)\n",
    "    morph  = cv2.morphologyEx(blur, cv2.MORPH_OPEN, kernel)\n",
    "\n",
    "    contours, _ = cv2.findContours(morph, cv2.RETR_EXTERNAL, cv2.CHAIN_APPROX_SIMPLE)\n",
    "    if contours:\n",
    "        x,y,w,h = cv2.boundingRect(max(contours, key=cv2.contourArea))\n",
    "        margin = 5\n",
    "        x = max(x - margin, 0)\n",
    "        y = max(y - margin, 0)\n",
    "        w = min(w + 2*margin, morph.shape[1] - x)\n",
    "        h = min(h + 2*margin, morph.shape[0] - y)\n",
    "        roi = morph[y:y+h, x:x+w]\n",
    "    else:\n",
    "        roi = morph\n",
    "\n",
    "    roi = cv2.resize(roi, (20,20), interpolation=cv2.INTER_AREA)\n",
    "    final = np.pad(roi, ((4,4),(4,4)), \"constant\", constant_values=0)\n",
    "\n",
    "    x = final.astype(\"float32\") / 255.0\n",
    "    x = x.reshape(1, 28, 28, 1)\n",
    "\n",
    "    if debug:\n",
    "        plt.figure(figsize=(10,3))\n",
    "        plt.subplot(1,4,1); plt.imshow(gray,  cmap=\"gray\"); plt.title(\"Gray\");  plt.axis(\"off\")\n",
    "        plt.subplot(1,4,2); plt.imshow(thresh,cmap=\"gray\"); plt.title(\"Thresh\");plt.axis(\"off\")\n",
    "        plt.subplot(1,4,3); plt.imshow(morph, cmap=\"gray\"); plt.title(\"Morph\"); plt.axis(\"off\")\n",
    "        plt.subplot(1,4,4); plt.imshow(final, cmap=\"gray\"); plt.title(\"Final\"); plt.axis(\"off\")\n",
    "        plt.show()\n",
    "\n",
    "    return x\n",
    "\n",
    "def predict_image(model, path, label_map, debug=False, topk=3):\n",
    "    x = preprocess_28x28(path, debug=debug)\n",
    "    probs = model.predict(x, verbose=0)[0]\n",
    "    pred  = int(np.argmax(probs))\n",
    "    label = label_map[str(pred)]\n",
    "    conf  = float(probs[pred])\n",
    "\n",
    "    if topk and topk > 1:\n",
    "        idxs = probs.argsort()[-topk:][::-1]\n",
    "        topk_list = [(label_map[str(i)], float(probs[i])) for i in idxs]\n",
    "        return label, conf, topk_list\n",
    "    return label, conf\n"
   ]
  },
  {
   "cell_type": "markdown",
   "id": "ba462918",
   "metadata": {},
   "source": [
    "## 🔍 Testing the Model on a New Image\n",
    "\n",
    "Now that we have trained and fine-tuned our CNN model, we will test it on a **real image** from our dataset:\n",
    "\n",
    "1. **Load the trained model**  \n",
    "   - We use `tf.keras.models.load_model()` to load the saved model (`sign_mnist_finetuned.h5`).  \n",
    "   - We also load the `label_map.json` file to map numerical predictions back to sign language letters.\n",
    "\n",
    "2. **Predict on a sample image**  \n",
    "   - We call the `predict_image()` function with a sample image (`hand1_c_bot_seg_1_cropped.jpeg`).  \n",
    "   - The function preprocesses the image (convert → crop → resize → normalize).  \n",
    "   - The model then predicts the most likely class.\n",
    "\n",
    "3. **Output**  \n",
    "   - We print the **predicted label** with its **confidence score**.  \n",
    "   - We also show the **Top-3 predictions** to understand the model’s certainty.  \n",
    "   - If `debug=True`, intermediate image processing steps will be displayed.\n",
    "\n",
    "👉 This step demonstrates how the model can generalize to real input images and recognize sign language letters.\n"
   ]
  },
  {
   "cell_type": "code",
   "execution_count": 16,
   "id": "8eed0881",
   "metadata": {},
   "outputs": [
    {
     "name": "stderr",
     "output_type": "stream",
     "text": [
      "WARNING:absl:Compiled the loaded model, but the compiled metrics have yet to be built. `model.compile_metrics` will be empty until you train or evaluate the model.\n"
     ]
    },
    {
     "data": {
      "image/png": "[encoded data removed]",
      "text/plain": [
       "<Figure size 1000x300 with 4 Axes>"
      ]
     },
     "metadata": {},
     "output_type": "display_data"
    },
    {
     "name": "stdout",
     "output_type": "stream",
     "text": [
      "Pred: C | conf: 0.905\n",
      "Top-3: [('C', 0.9053829312324524), ('O', 0.09439650923013687), ('A', 0.00021790395840071142)]\n"
     ]
    }
   ],
   "source": [
    "import json, tensorflow as tf\n",
    "\n",
    "model = tf.keras.models.load_model(\"sign_mnist_finetuned.h5\")\n",
    "with open(\"label_map.json\",\"r\",encoding=\"utf-8\") as f:\n",
    "    label_map = json.load(f)\n",
    "\n",
    "label, conf, top3 = predict_image(model, \"dataset/c/hand1_c_bot_seg_1_cropped.jpeg\", label_map, debug=True, topk=3)\n",
    "print(\"Pred:\", label, \"| conf:\", round(conf,3))\n",
    "print(\"Top-3:\", top3)\n"
   ]
  },
  {
   "cell_type": "markdown",
   "id": "5d93ce7c",
   "metadata": {},
   "source": [
    "## 🗂️ Verifying Class Labels and Mappings\n",
    "\n",
    "To make sure our **class labels** are consistent between the training generator and the saved label map file, we perform the following steps:\n",
    "\n",
    "1. **`train_gen.class_indices`**  \n",
    "   - This dictionary is automatically generated by Keras when loading images with `ImageDataGenerator`.  \n",
    "   - It maps folder names (class labels) to integer indices (e.g., `{'a':0, 'b':1, ...}`).\n",
    "\n",
    "2. **Loading `label_map.json`**  \n",
    "   - This file contains the saved mapping from training time.  \n",
    "   - We reload it to ensure the mapping is consistent across training and inference.\n",
    "\n",
    "3. **`idx2folder` (inverse mapping)**  \n",
    "   - Converts the mapping from **index → folder name**.  \n",
    "   - Useful when interpreting predictions directly from `train_gen`.\n",
    "\n",
    "4. **`idx2labelfile` (from label_map file)**  \n",
    "   - Converts the saved label map back into **index → label** format (integer keys).  \n",
    "   - This ensures both mappings (`train_gen` and `label_map.json`) align.\n",
    "\n",
    "👉 This step helps us confirm that the dataset’s folder structure and the label file used during prediction are perfectly synchronized.\n"
   ]
  },
  {
   "cell_type": "code",
   "execution_count": 17,
   "id": "d7d6b814",
   "metadata": {},
   "outputs": [
    {
     "name": "stdout",
     "output_type": "stream",
     "text": [
      "train_gen.class_indices:\n",
      "{'a': 0, 'b': 1, 'c': 2, 'd': 3, 'e': 4, 'f': 5, 'g': 6, 'h': 7, 'i': 8, 'k': 9, 'l': 10, 'm': 11, 'n': 12, 'o': 13, 'p': 14, 'q': 15, 'r': 16, 's': 17, 't': 18, 'u': 19, 'v': 20, 'w': 21, 'x': 22, 'y': 23}\n",
      "\n",
      "label_map (from file):\n",
      "{'0': 'A', '1': 'B', '2': 'C', '3': 'D', '4': 'E', '5': 'F', '6': 'G', '7': 'H', '8': 'I', '9': 'K', '10': 'L', '11': 'M', '12': 'N', '13': 'O', '14': 'P', '15': 'Q', '16': 'R', '17': 'S', '18': 'T', '19': 'U', '20': 'V', '21': 'W', '22': 'X', '23': 'Y'}\n",
      "\n",
      "idx2folder (from train_gen):\n",
      "{0: 'a', 1: 'b', 2: 'c', 3: 'd', 4: 'e', 5: 'f', 6: 'g', 7: 'h', 8: 'i', 9: 'k', 10: 'l', 11: 'm', 12: 'n', 13: 'o', 14: 'p', 15: 'q', 16: 'r', 17: 's', 18: 't', 19: 'u', 20: 'v', 21: 'w', 22: 'x', 23: 'y'}\n",
      "\n",
      "idx2labelfile (from file converted to int keys):\n",
      "{0: 'A', 1: 'B', 2: 'C', 3: 'D', 4: 'E', 5: 'F', 6: 'G', 7: 'H', 8: 'I', 9: 'K', 10: 'L', 11: 'M', 12: 'N', 13: 'O', 14: 'P', 15: 'Q', 16: 'R', 17: 'S', 18: 'T', 19: 'U', 20: 'V', 21: 'W', 22: 'X', 23: 'Y'}\n"
     ]
    }
   ],
   "source": [
    "import json\n",
    "\n",
    "print(\"train_gen.class_indices:\")\n",
    "print(train_gen.class_indices)\n",
    "\n",
    "with open(\"label_map.json\",\"r\",encoding=\"utf-8\") as f:\n",
    "    label_map = json.load(f)\n",
    "print(\"\\nlabel_map (from file):\")\n",
    "print(label_map)\n",
    "\n",
    "idx2folder = {v:k for k,v in train_gen.class_indices.items()}\n",
    "print(\"\\nidx2folder (from train_gen):\")\n",
    "print(idx2folder)\n",
    "\n",
    "idx2labelfile = {int(k):v for k,v in label_map.items()}\n",
    "print(\"\\nidx2labelfile (from file converted to int keys):\")\n",
    "print(idx2labelfile)\n"
   ]
  },
  {
   "cell_type": "markdown",
   "id": "a6b56d69",
   "metadata": {},
   "source": [
    "## 🎨 Data Augmentation Setup\n",
    "\n",
    "To make our model more robust and prevent overfitting, we apply **data augmentation** using `ImageDataGenerator`.  \n",
    "This helps simulate variations in real-world images of hand signs.\n",
    "\n",
    "The transformations applied are:\n",
    "\n",
    "- **`rescale=1./255`** → Normalizes pixel values to range [0,1].  \n",
    "- **`rotation_range=25`** → Randomly rotates images up to 25°.  \n",
    "- **`width_shift_range=0.2` & `height_shift_range=0.2`** → Randomly shifts images horizontally and vertically by up to 20%.  \n",
    "- **`zoom_range=0.25`** → Random zoom-in/out up to 25%.  \n",
    "- **`shear_range=0.15`** → Applies shear transformations.  \n",
    "- **`brightness_range=(0.5, 1.5)`** → Randomly adjusts image brightness.  \n",
    "- **`horizontal_flip=True`** → Randomly flips images horizontally.  \n",
    "\n",
    "👉 These augmentations increase dataset diversity, improving the model’s ability to generalize to unseen sign language images.\n"
   ]
  },
  {
   "cell_type": "code",
   "execution_count": 18,
   "id": "b55783c1",
   "metadata": {},
   "outputs": [],
   "source": [
    "datagen = ImageDataGenerator(\n",
    "    rescale=1./255,\n",
    "    rotation_range=25,\n",
    "    width_shift_range=0.2,\n",
    "    height_shift_range=0.2,\n",
    "    zoom_range=0.25,\n",
    "    shear_range=0.15,\n",
    "    brightness_range=(0.5,1.5),\n",
    "    horizontal_flip=True\n",
    ")\n"
   ]
  },
  {
   "cell_type": "markdown",
   "id": "b0b111a6",
   "metadata": {},
   "source": [
    "## ⚡ Model Compilation & Training\n",
    "\n",
    "After defining the CNN architecture, we now **compile and train** the model:\n",
    "\n",
    "- **Optimizer:** `Adam(1e-5)` → A very small learning rate is used to fine-tune the model without destroying pre-learned weights.  \n",
    "- **Loss Function:** `sparse_categorical_crossentropy` → Suitable for multi-class classification with integer labels.  \n",
    "- **Metrics:** We track **accuracy** during training.\n",
    "\n",
    "We then fit the model using:\n",
    "\n",
    "- **Training data (`train_gen`)**  \n",
    "- **Validation data (`val_gen`)**  \n",
    "- **Epochs = 12** → Train for up to 12 epochs.  \n",
    "- **Callbacks:**  \n",
    "  - `EarlyStopping (es)` → Stops training if validation accuracy doesn’t improve.  \n",
    "  - `ModelCheckpoint (ckpt)` → Saves the best model weights.  \n",
    "\n",
    "This ensures efficient training while preventing overfitting.\n"
   ]
  },
  {
   "cell_type": "code",
   "execution_count": 19,
   "id": "918401ad",
   "metadata": {},
   "outputs": [
    {
     "name": "stdout",
     "output_type": "stream",
     "text": [
      "Epoch 1/12\n"
     ]
    },
    {
     "name": "stderr",
     "output_type": "stream",
     "text": [
      "WARNING:absl:You are saving your model as an HDF5 file via `model.save()` or `keras.saving.save_model(model)`. This file format is considered legacy. We recommend using instead the native Keras format, e.g. `model.save('my_model.keras')` or `keras.saving.save_model(model, 'my_model.keras')`. \n"
     ]
    },
    {
     "name": "stdout",
     "output_type": "stream",
     "text": [
      "42/42 - 11s - 254ms/step - accuracy: 0.9821 - loss: 0.0580 - val_accuracy: 0.9851 - val_loss: 0.1040\n",
      "Epoch 2/12\n",
      "42/42 - 5s - 113ms/step - accuracy: 0.9843 - loss: 0.0514 - val_accuracy: 0.9851 - val_loss: 0.0997\n",
      "Epoch 3/12\n",
      "42/42 - 5s - 115ms/step - accuracy: 0.9836 - loss: 0.0410 - val_accuracy: 0.9851 - val_loss: 0.0973\n",
      "Epoch 4/12\n",
      "42/42 - 5s - 109ms/step - accuracy: 0.9896 - loss: 0.0367 - val_accuracy: 0.9851 - val_loss: 0.0948\n",
      "Epoch 5/12\n",
      "42/42 - 3s - 77ms/step - accuracy: 0.9791 - loss: 0.0513 - val_accuracy: 0.9851 - val_loss: 0.0939\n",
      "Epoch 6/12\n",
      "42/42 - 5s - 113ms/step - accuracy: 0.9828 - loss: 0.0467 - val_accuracy: 0.9851 - val_loss: 0.0951\n"
     ]
    }
   ],
   "source": [
    "from tensorflow.keras.optimizers import Adam\n",
    "\n",
    "model.compile(\n",
    "    optimizer=Adam(1e-5),\n",
    "    loss=\"sparse_categorical_crossentropy\",\n",
    "    metrics=[\"accuracy\"]\n",
    ")\n",
    "\n",
    "history = model.fit(\n",
    "    train_gen,\n",
    "    validation_data=val_gen,\n",
    "    epochs=12,\n",
    "    callbacks=[es, ckpt],\n",
    "    verbose=2\n",
    ")\n"
   ]
  },
  {
   "cell_type": "markdown",
   "id": "d77e3c74",
   "metadata": {},
   "source": [
    "## 💾 Saving the Trained Model\n",
    "\n",
    "After training is complete, we save the fine-tuned model to disk for later use:\n",
    "\n",
    "- **Filename:** `sign_mnist_finetuned.h5`  \n",
    "- This file contains the **model architecture + trained weights**.  \n",
    "- Saved models can be reloaded later without retraining, which makes deployment and inference easier.  \n",
    "\n",
    "This ensures we don’t lose the trained progress and can reuse the model for predictions.\n"
   ]
  },
  {
   "cell_type": "code",
   "execution_count": 20,
   "id": "3d80103d",
   "metadata": {},
   "outputs": [
    {
     "name": "stderr",
     "output_type": "stream",
     "text": [
      "WARNING:absl:You are saving your model as an HDF5 file via `model.save()` or `keras.saving.save_model(model)`. This file format is considered legacy. We recommend using instead the native Keras format, e.g. `model.save('my_model.keras')` or `keras.saving.save_model(model, 'my_model.keras')`. \n"
     ]
    },
    {
     "name": "stdout",
     "output_type": "stream",
     "text": [
      "✅ Model saved as sign_mnist_finetuned.h5\n"
     ]
    }
   ],
   "source": [
    "model.save(\"sign_mnist_finetuned.h5\")\n",
    "print(\"✅ Model saved as sign_mnist_finetuned.h5\")\n"
   ]
  },
  {
   "cell_type": "markdown",
   "id": "d1510c15",
   "metadata": {},
   "source": [
    "## 📊 Model Evaluation on Validation Set\n",
    "\n",
    "After training and saving the model, we evaluate its performance on the **validation set**:\n",
    "\n",
    "- This step calculates the **loss** and **accuracy** on data the model has not seen during training.  \n",
    "- Validation accuracy is a good indicator of how well the model is likely to generalize to new, unseen data.  \n",
    "- The result will be printed as a rounded accuracy score.\n"
   ]
  },
  {
   "cell_type": "code",
   "execution_count": 21,
   "id": "70def4b9",
   "metadata": {},
   "outputs": [
    {
     "name": "stdout",
     "output_type": "stream",
     "text": [
      "Validation Accuracy: 0.9851\n"
     ]
    }
   ],
   "source": [
    "val_loss, val_acc = model.evaluate(val_gen, verbose=0)\n",
    "print(\"Validation Accuracy:\", round(val_acc, 4))\n"
   ]
  },
  {
   "cell_type": "markdown",
   "id": "5cf59662",
   "metadata": {},
   "source": [
    "## 🏷️ Saving Label Map\n",
    "\n",
    "- Extract the **class indices** from the training generator (`train_gen.class_indices`).  \n",
    "- Convert them into a dictionary `label_map` where the **class index (int)** is mapped to the **class name (uppercase)**.  \n",
    "- Save this mapping to a JSON file (`label_map.json`) for later use during prediction.  \n",
    "- This ensures consistency between the model’s output indices and the actual class labels.\n"
   ]
  },
  {
   "cell_type": "code",
   "execution_count": 22,
   "id": "bc57d21e",
   "metadata": {},
   "outputs": [
    {
     "name": "stdout",
     "output_type": "stream",
     "text": [
      "✅ label_map.json saved\n"
     ]
    }
   ],
   "source": [
    "class_indices = train_gen.class_indices\n",
    "label_map = {str(v): k.upper() for k, v in class_indices.items()}\n",
    "\n",
    "import json\n",
    "with open(\"label_map.json\", \"w\", encoding=\"utf-8\") as f:\n",
    "    json.dump(label_map, f, ensure_ascii=False, indent=2)\n",
    "\n",
    "print(\"✅ label_map.json saved\")\n"
   ]
  },
  {
   "cell_type": "markdown",
   "id": "63b0009d",
   "metadata": {},
   "source": [
    "## 🔮 Predicting Top-K Classes\n",
    "\n",
    "- **Goal:** Given an image, return the top-k most likely classes predicted by the trained model.  \n",
    "- **Steps:**\n",
    "  1. **Read & preprocess image**  \n",
    "     - Load as grayscale (`cv2.imread`).  \n",
    "     - Resize to **28×28** pixels.  \n",
    "     - If the background is brighter than the digit/hand sign → invert colors.  \n",
    "     - Normalize pixel values to `[0,1]` and reshape to `(1,28,28,1)` for model input.  \n",
    "  2. **Model prediction**  \n",
    "     - Use `model.predict` to get probability distribution across all classes.  \n",
    "  3. **Top-K extraction**  \n",
    "     - Sort probabilities, pick the top-k indices.  \n",
    "     - Map each index back to its **label** using `label_map`.  \n",
    "  4. **Print results**  \n",
    "     - Display label and probability score (e.g., `C : 0.912`).  \n",
    "\n",
    "This function helps inspect not only the **best prediction** but also the runner-up classes, which is very useful for debugging and model evaluation.\n"
   ]
  },
  {
   "cell_type": "code",
   "execution_count": 23,
   "id": "69bac799",
   "metadata": {},
   "outputs": [],
   "source": [
    "def predict_topk(model, path, label_map, k=3):\n",
    "    import cv2, numpy as np\n",
    "    img = cv2.imread(path, cv2.IMREAD_GRAYSCALE)\n",
    "    img = cv2.resize(img, (28, 28))\n",
    "\n",
    "    if np.mean(img) > 127:\n",
    "        img = 255 - img\n",
    "\n",
    "    x = img.astype(\"float32\") / 255.0\n",
    "    x = x.reshape(1, 28, 28, 1)\n",
    "\n",
    "    probs = model.predict(x, verbose=0)[0]\n",
    "    topk = probs.argsort()[-k:][::-1]\n",
    "\n",
    "    for idx in topk:\n",
    "        print(f\"{label_map[str(idx)]} : {probs[idx]:.3f}\")\n"
   ]
  },
  {
   "cell_type": "markdown",
   "id": "cc3ccb47",
   "metadata": {},
   "source": [
    "### 🔍 Checking if the Image File Exists\n",
    "\n",
    "The following code checks whether the file **`I.jpg`** exists in the current working directory:\n",
    "\n",
    "- If it prints `True`, the file exists. ✅  \n",
    "- If it prints `False`, the file does not exist or the path is incorrect. ❌  \n",
    "\n",
    "You can also print the current working directory with `os.getcwd()` to confirm where Python is looking for the file.\n"
   ]
  },
  {
   "cell_type": "code",
   "execution_count": 24,
   "id": "675be454",
   "metadata": {},
   "outputs": [
    {
     "name": "stdout",
     "output_type": "stream",
     "text": [
      "False\n"
     ]
    }
   ],
   "source": [
    "import os\n",
    "print(os.path.exists(\"I.jpg\"))\n"
   ]
  },
  {
   "cell_type": "markdown",
   "id": "b517be50",
   "metadata": {},
   "source": [
    "### 📂 Checking the Current Working Directory\n",
    "\n",
    "Before loading or saving files, it’s important to know where Python is currently working.  \n",
    "The following code prints the **current working directory (CWD)** so you can confirm whether your image file `I.jpg` is located there or not.  \n",
    "\n",
    "- Use this to troubleshoot \"file not found\" errors.  \n",
    "- If the directory is not what you expect, you can change it with `os.chdir(\"path/to/folder\")`.\n"
   ]
  },
  {
   "cell_type": "code",
   "execution_count": 25,
   "id": "bba6adb8",
   "metadata": {},
   "outputs": [
    {
     "name": "stdout",
     "output_type": "stream",
     "text": [
      "Current working directory: c:\\Users\\merog\\OneDrive\\Desktop\\Machine Learning\\Final_Project\\sign_language\n"
     ]
    }
   ],
   "source": [
    "import os\n",
    "print(\"Current working directory:\", os.getcwd())\n"
   ]
  },
  {
   "cell_type": "markdown",
   "id": "24596e4f",
   "metadata": {},
   "source": [
    "### 🖼️ Loading an Image in Grayscale\n",
    "\n",
    "Here we use **OpenCV (`cv2`)** to read an image from the dataset folder:\n",
    "\n",
    "```python\n",
    "img = cv2.imread(\"dataset/I.jpg\", cv2.IMREAD_GRAYSCALE)\n",
    "``"
   ]
  },
  {
   "cell_type": "code",
   "execution_count": 26,
   "id": "126770ea",
   "metadata": {},
   "outputs": [],
   "source": [
    "img = cv2.imread(\"dataset/I.jpg\", cv2.IMREAD_GRAYSCALE)\n"
   ]
  },
  {
   "cell_type": "markdown",
   "id": "e594b56a",
   "metadata": {},
   "source": [
    "### 📊 Confusion Matrix for Model Evaluation\n",
    "\n",
    "To better understand how well our CNN model performs across different classes,  \n",
    "we plot a **confusion matrix** using the validation data generator:\n",
    "\n",
    "1. **Loop over `val_gen`**  \n",
    "   - Collect the true labels (`y_true`)  \n",
    "   - Get the model predictions (`y_pred`)  \n",
    "\n",
    "2. **Build the confusion matrix**  \n",
    "   - `confusion_matrix(y_true, y_pred)` from `sklearn.metrics`  \n",
    "\n",
    "3. **Visualize**  \n",
    "   - `ConfusionMatrixDisplay` helps display the matrix with class labels  \n",
    "   - Labels are taken from `val_gen.class_indices` (mapped to uppercase letters)  \n",
    "\n",
    "This matrix gives us detailed insight into:\n",
    "- Which letters are classified correctly  \n",
    "- Which letters the model confuses with others  \n",
    "- Where improvements (e.g., more data or augmentation) may be needed\n"
   ]
  },
  {
   "cell_type": "code",
   "execution_count": 27,
   "id": "25bcec5c",
   "metadata": {},
   "outputs": [
    {
     "data": {
      "text/plain": [
       "<sklearn.metrics._plot.confusion_matrix.ConfusionMatrixDisplay at 0x2310f3970e0>"
      ]
     },
     "execution_count": 27,
     "metadata": {},
     "output_type": "execute_result"
    },
    {
     "data": {
      "image/png": "[encoded data removed]",
      "text/plain": [
       "<Figure size 640x480 with 2 Axes>"
      ]
     },
     "metadata": {},
     "output_type": "display_data"
    }
   ],
   "source": [
    "import numpy as np\n",
    "from sklearn.metrics import confusion_matrix, ConfusionMatrixDisplay\n",
    "\n",
    "y_true = []\n",
    "y_pred = []\n",
    "\n",
    "for i in range(len(val_gen)):\n",
    "    X, y = val_gen[i]\n",
    "    preds = np.argmax(model.predict(X, verbose=0), axis=1)\n",
    "    y_true.extend(y)\n",
    "    y_pred.extend(preds)\n",
    "\n",
    "cm = confusion_matrix(y_true, y_pred)\n",
    "disp = ConfusionMatrixDisplay(cm, display_labels=[lab.upper() for lab in val_gen.class_indices.keys()])\n",
    "disp.plot(xticks_rotation=90)\n"
   ]
  },
  {
   "cell_type": "markdown",
   "id": "2861c71d",
   "metadata": {},
   "source": [
    "### 💾 Convert Model from `.h5` to `.keras`\n",
    "\n",
    "Keras has recently introduced the **`.keras` format** as the new standard for saving models,  \n",
    "replacing the older `.h5` format.  \n",
    "\n",
    "Steps performed here:\n",
    "1. **Load the existing model** from `sign_mnist_finetuned.h5` (without recompiling).  \n",
    "2. **Re-save the model** in the new `.keras` format as `sign_mnist_finetuned.keras`.  \n",
    "\n",
    "This ensures:\n",
    "- Better forward compatibility with future TensorFlow/Keras versions.  \n",
    "- Full preservation of model architecture, weights, and training configuration.  \n"
   ]
  },
  {
   "cell_type": "code",
   "execution_count": 28,
   "id": "6f161e80",
   "metadata": {},
   "outputs": [],
   "source": [
    "from tensorflow import keras\n",
    "\n",
    "model = keras.models.load_model(\"sign_mnist_finetuned.h5\", compile=False)\n",
    "\n",
    "model.save(\"sign_mnist_finetuned.keras\")"
   ]
  },
  {
   "cell_type": "markdown",
   "id": "23e8276a",
   "metadata": {},
   "source": [
    "### 📌 Loading and Using the `.keras` Model\n",
    "\n",
    "Once the model is saved in the `.keras` format, you can load and use it for inference as follows:\n",
    "\n",
    "```python\n",
    "from tensorflow import keras\n",
    "import numpy as np\n",
    "\n",
    "# Load the model\n",
    "model = keras.models.load_model(\"sign_mnist_finetuned.keras\")\n",
    "\n",
    "# Example: Predict on one image\n",
    "img = ...  # Preprocess your image into shape (1, 28, 28, 1)\n",
    "probs = model.predict(img)\n",
    "pred = np.argmax(probs)\n",
    "\n",
    "print(\"Predicted class:\", pred)\n"
   ]
  }
 ],
 "metadata": {
  "kernelspec": {
   "display_name": "Python 3",
   "language": "python",
   "name": "python3"
  },
  "language_info": {
   "codemirror_mode": {
    "name": "ipython",
    "version": 3
   },
   "file_extension": ".py",
   "mimetype": "text/x-python",
   "name": "python",
   "nbconvert_exporter": "python",
   "pygments_lexer": "ipython3",
   "version": "3.13.5"
  }
 },
 "nbformat": 4,
 "nbformat_minor": 5
}
